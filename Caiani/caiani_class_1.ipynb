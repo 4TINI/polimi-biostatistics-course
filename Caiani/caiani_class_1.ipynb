{
 "cells": [
  {
   "cell_type": "markdown",
   "metadata": {},
   "source": [
    "# Caiani: Class 1 (11/05/2020)"
   ]
  },
  {
   "cell_type": "markdown",
   "metadata": {},
   "source": [
    "Data consist of __individuals__ and __variables__ that give us information about those individuals. An individual can be an object or a person. A variable is an attribute, such as a measurement or a label."
   ]
  },
  {
   "cell_type": "code",
   "execution_count": 1,
   "metadata": {},
   "outputs": [
    {
     "data": {
      "text/html": [
       "<div>\n",
       "<style scoped>\n",
       "    .dataframe tbody tr th:only-of-type {\n",
       "        vertical-align: middle;\n",
       "    }\n",
       "\n",
       "    .dataframe tbody tr th {\n",
       "        vertical-align: top;\n",
       "    }\n",
       "\n",
       "    .dataframe thead th {\n",
       "        text-align: right;\n",
       "    }\n",
       "</style>\n",
       "<table border=\"1\" class=\"dataframe\">\n",
       "  <thead>\n",
       "    <tr style=\"text-align: right;\">\n",
       "      <th></th>\n",
       "      <th>Age</th>\n",
       "      <th>Sex</th>\n",
       "      <th>Prosthetic size</th>\n",
       "      <th>Device</th>\n",
       "      <th>EDV</th>\n",
       "      <th>EF</th>\n",
       "      <th>MR</th>\n",
       "      <th>NYHA</th>\n",
       "    </tr>\n",
       "  </thead>\n",
       "  <tbody>\n",
       "    <tr>\n",
       "      <th>Subject 1</th>\n",
       "      <td>85</td>\n",
       "      <td>0</td>\n",
       "      <td>27</td>\n",
       "      <td>1(ICD)</td>\n",
       "      <td>123</td>\n",
       "      <td>21</td>\n",
       "      <td>0</td>\n",
       "      <td>4</td>\n",
       "    </tr>\n",
       "    <tr>\n",
       "      <th>Subject 2</th>\n",
       "      <td>43</td>\n",
       "      <td>1</td>\n",
       "      <td>23</td>\n",
       "      <td>2(PM)</td>\n",
       "      <td>98</td>\n",
       "      <td>64</td>\n",
       "      <td>1</td>\n",
       "      <td>1</td>\n",
       "    </tr>\n",
       "    <tr>\n",
       "      <th>Subject 3</th>\n",
       "      <td>72</td>\n",
       "      <td>0</td>\n",
       "      <td>23</td>\n",
       "      <td>1(ICD)</td>\n",
       "      <td>76</td>\n",
       "      <td>62</td>\n",
       "      <td>4</td>\n",
       "      <td>1</td>\n",
       "    </tr>\n",
       "    <tr>\n",
       "      <th>Subject 4</th>\n",
       "      <td>23</td>\n",
       "      <td>1</td>\n",
       "      <td>21</td>\n",
       "      <td>1(ICD)</td>\n",
       "      <td>84</td>\n",
       "      <td>58</td>\n",
       "      <td>3</td>\n",
       "      <td>1</td>\n",
       "    </tr>\n",
       "  </tbody>\n",
       "</table>\n",
       "</div>"
      ],
      "text/plain": [
       "           Age  Sex  Prosthetic size  Device  EDV  EF  MR  NYHA\n",
       "Subject 1   85    0               27  1(ICD)  123  21   0     4\n",
       "Subject 2   43    1               23   2(PM)   98  64   1     1\n",
       "Subject 3   72    0               23  1(ICD)   76  62   4     1\n",
       "Subject 4   23    1               21  1(ICD)   84  58   3     1"
      ]
     },
     "execution_count": 1,
     "metadata": {},
     "output_type": "execute_result"
    }
   ],
   "source": [
    "import pandas as pd\n",
    "table1 = pd.read_excel(\"tables/table1.xlsx\", index_col=0, header = 0)\n",
    "table1"
   ]
  },
  {
   "cell_type": "markdown",
   "metadata": {},
   "source": [
    "In this example, the individuals are the subjects. There are 8 variables in this dataset:\n",
    "- __Age__\n",
    "- __Sex__\n",
    "- __Prosthetic size__\n",
    "- __Device__\n",
    "- __End-Diastolic Volume (EDV)__\n",
    "- __Ejection Fraction (EF)__\n",
    "- __Mitral Regurgitation (MR)__\n",
    "- __NYHA (New York Heart Association) Heart Failure Classification__"
   ]
  },
  {
   "cell_type": "markdown",
   "metadata": {},
   "source": [
    "There are two types of variables: __quantitative__ and __categorical__.\n",
    "\n",
    "- __Categorical variables__ take category or label values and place an individual into one of several groups. Each observation can be placed in only one category, and the categories are mutually exclusive. \n",
    "    - __Nominal values__ represent discrete units and are used to label variables, that have no quantitative value. Just think of them as 'labels'. Note that nominal data that has no order. Therefore if you would change the order of its values, the meaning would not change. In our example the __Device__ variable is Nominal-categorical variable as well as __sex__.\n",
    "    - __Ordinal values__ represent discrete and ordered units. It is therefore nearly the same as nominal data, except that it’s ordering matters. It's the case of __MR__ and __NYHA__. Ordinal scales are usually used to measure non-numeric features like happiness, customer satisfaction and so on.\n",
    "- __Quantitative variables__ take numerical values and represent some kind of measurement. In our medical example, age is an example of a quantitative variable because it can take on multiple numerical values. It also makes sense to think about it in numerical form; that is, a person can be 18 years old or 80 years old. Weight and height are also examples of quantitative variables.\n",
    "    - __Discrete Data__ are those whose values are distinct and separate. In other words: We speak of discrete data if the data can only take on certain values. This type of data can’t be measured but it can be counted.\n",
    "    - __Continuous Data__ represents measurements and therefore their values can’t be counted but they can be measured.\n"
   ]
  },
  {
   "cell_type": "markdown",
   "metadata": {},
   "source": [
    "Having a good understanding of the different data types, also called measurement scales, is a crucial prerequisite for doing Exploratory Data Analysis (EDA), since you can use certain statistical measurements only for specific data types."
   ]
  },
  {
   "cell_type": "markdown",
   "metadata": {},
   "source": [
    "<img src=\"images/data.png\" style=\"width:70%\"/>"
   ]
  },
  {
   "cell_type": "code",
   "execution_count": null,
   "metadata": {},
   "outputs": [],
   "source": []
  }
 ],
 "metadata": {
  "kernelspec": {
   "display_name": "venv_kernel",
   "language": "python",
   "name": "venv_kernel"
  },
  "language_info": {
   "codemirror_mode": {
    "name": "ipython",
    "version": 3
   },
   "file_extension": ".py",
   "mimetype": "text/x-python",
   "name": "python",
   "nbconvert_exporter": "python",
   "pygments_lexer": "ipython3",
   "version": "3.7.7"
  }
 },
 "nbformat": 4,
 "nbformat_minor": 4
}
